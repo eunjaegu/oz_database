{
 "cells": [
  {
   "cell_type": "code",
   "execution_count": null,
   "metadata": {},
   "outputs": [],
   "source": [
    "# day5\n"
   ]
  },
  {
   "cell_type": "code",
   "execution_count": null,
   "metadata": {},
   "outputs": [],
   "source": [
    "#예스 24 크롤링\n",
    "# 크롤링이란 ? 웹사이트에서 자동으로 데이터를 수집하는 기술\n",
    "# 사용방법: requests(정적), BeautifulSoup(정적), Selenium(동적) 같은 라이브러리를 사용하여 웹페이지에서 특정 데이터를 가져온다.\n",
    "# 목적: 웹사이트 공개된 정보 수집\n",
    "# 속도: 상대적으로 느림(브라우저 렌더링 필요)\n",
    "# 법적문제: 사이트 이용약관 위반 가능성이 있음.\n",
    "# 정적 크롤링? requests와 BeautifulSoup을 사용하여 HTML 소스 코드를 가져와 필요한 데이터를 추출하는 방식\n",
    "# 동적 크롤링? Selenium을 사용하여 자바스크립트가 실행되는 웹페이지에서 데이터를 가져오는 방식"
   ]
  },
  {
   "cell_type": "code",
   "execution_count": null,
   "metadata": {},
   "outputs": [],
   "source": [
    "\n",
    "# API이란? API 서버에서 JSON/XML 등의 구조화된 데이터 받기\n",
    "# 방법: requests, http.client, urllib 사용\n",
    "# 사용목적: 공식 API에서 정리된 데이터 요청\n",
    "# 속도: 빠름(서버에서 직접 데이터 제공\n",
    "# 법적문제 : 정식으로 제공되는 API라 문제 없음.\n",
    "\n",
    "\n"
   ]
  },
  {
   "cell_type": "code",
   "execution_count": 63,
   "metadata": {},
   "outputs": [
    {
     "data": {
      "text/plain": [
       "'/Users/gueunjae/.wdm/drivers/chromedriver/mac64/134.0.6998.165/chromedriver-mac-arm64/chromedriver'"
      ]
     },
     "execution_count": 63,
     "metadata": {},
     "output_type": "execute_result"
    }
   ],
   "source": [
    "# webdriver-manager 라이브러리 불러오기\n",
    "from webdriver_manager.chrome import ChromeDriverManager\n",
    "ChromeDriverManager().install()"
   ]
  },
  {
   "cell_type": "code",
   "execution_count": 64,
   "metadata": {},
   "outputs": [],
   "source": [
    "from selenium import webdriver\n",
    "browser = webdriver.Chrome()\n"
   ]
  },
  {
   "cell_type": "code",
   "execution_count": 24,
   "metadata": {},
   "outputs": [],
   "source": [
    "url = 'https://google.com'\n",
    "browser.get(url)"
   ]
  },
  {
   "cell_type": "code",
   "execution_count": 25,
   "metadata": {},
   "outputs": [
    {
     "data": {
      "text/plain": [
       "'대한민국'"
      ]
     },
     "execution_count": 25,
     "metadata": {},
     "output_type": "execute_result"
    }
   ],
   "source": [
    "from selenium.webdriver.common.by import By\n",
    "browser.find_element(By.CLASS_NAME, 'uU7dJb').text\n",
    "# <div class=\"uU7dJb\">South Korea</div>"
   ]
  },
  {
   "cell_type": "code",
   "execution_count": 57,
   "metadata": {},
   "outputs": [],
   "source": [
    "from selenium.webdriver.common.by import By\n",
    "url = 'https://www.yes24.com/product/category/bestseller?CategoryNumber=001&sumgb=06'\n",
    "browser.get(url)"
   ]
  },
  {
   "cell_type": "code",
   "execution_count": 58,
   "metadata": {},
   "outputs": [
    {
     "name": "stdout",
     "output_type": "stream",
     "text": [
      "https://www.yes24.com/product/goods/144021119\n",
      "https://www.yes24.com/product/goods/142876017\n",
      "https://www.yes24.com/product/goods/142687238\n",
      "https://www.yes24.com/product/goods/13137546\n",
      "https://www.yes24.com/product/goods/143756152\n",
      "https://www.yes24.com/product/goods/126590468\n",
      "https://www.yes24.com/product/goods/8759796\n",
      "https://www.yes24.com/product/goods/134602629\n",
      "https://www.yes24.com/product/goods/143494860\n",
      "https://www.yes24.com/product/goods/136298166\n",
      "https://www.yes24.com/product/goods/143752594\n",
      "https://www.yes24.com/product/goods/143786411\n",
      "https://www.yes24.com/product/goods/140199250\n",
      "https://www.yes24.com/product/goods/15718330\n",
      "https://www.yes24.com/product/goods/140199263\n",
      "https://www.yes24.com/product/goods/125557465\n",
      "https://www.yes24.com/product/goods/124043812\n",
      "https://www.yes24.com/product/goods/124043802\n",
      "https://www.yes24.com/product/goods/142605459\n",
      "https://www.yes24.com/product/goods/143641132\n",
      "https://www.yes24.com/product/goods/142867707\n",
      "https://www.yes24.com/product/goods/142805048\n",
      "https://www.yes24.com/product/goods/116586303\n",
      "https://www.yes24.com/product/goods/138282792\n"
     ]
    }
   ],
   "source": [
    "# 1페이지의 링크 데이터 전부 수집\n",
    "\n",
    "# 브라우저 요소 클래스이름을 가져와서 책 제목 찾기\n",
    "#browser.find_element(By.CLASS_NAME, 'gd_name').text\n",
    "\n",
    "### 한 개의 베스트 셀러 링크 수집\n",
    "# 속성 값인 href(책의 상세페이지) 가져오기\n",
    "# get_attribute('href')는 링크URL을 추출\n",
    "browser.find_element(By.CLASS_NAME, 'gd_name').get_attribute('href')\n",
    "\n",
    "### 1페이지 전체의 링크 데이터\n",
    "#browser.find_element(By.CLASS_NAME, 'gd_name') # element: 요소\n",
    "datas = browser.find_elements(By.CLASS_NAME, 'gd_name') # elements: 리스트\n",
    "\n",
    "for i in datas:\n",
    "    print(i.get_attribute('href'))\n"
   ]
  },
  {
   "cell_type": "code",
   "execution_count": 65,
   "metadata": {},
   "outputs": [
    {
     "name": "stdout",
     "output_type": "stream",
     "text": [
      "********** 현재 1 페이지 수집 중 입니다. **********\n",
      "********** 현재 2 페이지 수집 중 입니다. **********\n",
      "********** 현재 3 페이지 수집 중 입니다. **********\n",
      "['https://www.yes24.com/product/goods/144021119', 'https://www.yes24.com/product/goods/142876017', 'https://www.yes24.com/product/goods/142687238', 'https://www.yes24.com/product/goods/13137546', 'https://www.yes24.com/product/goods/143756152', 'https://www.yes24.com/product/goods/126590468', 'https://www.yes24.com/product/goods/8759796', 'https://www.yes24.com/product/goods/134602629', 'https://www.yes24.com/product/goods/143494860', 'https://www.yes24.com/product/goods/136298166', 'https://www.yes24.com/product/goods/143752594', 'https://www.yes24.com/product/goods/143786411', 'https://www.yes24.com/product/goods/140199250', 'https://www.yes24.com/product/goods/15718330', 'https://www.yes24.com/product/goods/140199263', 'https://www.yes24.com/product/goods/125557465', 'https://www.yes24.com/product/goods/124043812', 'https://www.yes24.com/product/goods/124043802', 'https://www.yes24.com/product/goods/142605459', 'https://www.yes24.com/product/goods/143641132', 'https://www.yes24.com/product/goods/142867707', 'https://www.yes24.com/product/goods/142805048', 'https://www.yes24.com/product/goods/116586303', 'https://www.yes24.com/product/goods/138282792', 'https://www.yes24.com/product/goods/108422348', 'https://www.yes24.com/product/goods/141253984', 'https://www.yes24.com/product/goods/142866187', 'https://www.yes24.com/product/goods/143484785', 'https://www.yes24.com/product/goods/103495056', 'https://www.yes24.com/product/goods/141753956', 'https://www.yes24.com/product/goods/143643018', 'https://www.yes24.com/product/goods/67362730', 'https://www.yes24.com/product/goods/133809700', 'https://www.yes24.com/product/goods/143605110', 'https://www.yes24.com/product/goods/143254347', 'https://www.yes24.com/product/goods/143655438', 'https://www.yes24.com/product/goods/143752406', 'https://www.yes24.com/product/goods/122849283', 'https://www.yes24.com/product/goods/143752344', 'https://www.yes24.com/product/goods/142761849', 'https://www.yes24.com/product/goods/140231250', 'https://www.yes24.com/product/goods/140371473', 'https://www.yes24.com/product/goods/143786449', 'https://www.yes24.com/product/goods/79297023', 'https://www.yes24.com/product/goods/142999143', 'https://www.yes24.com/product/goods/138831340', 'https://www.yes24.com/product/goods/142876578', 'https://www.yes24.com/product/goods/97255028', 'https://www.yes24.com/product/goods/117014613', 'https://www.yes24.com/product/goods/142972546', 'https://www.yes24.com/product/goods/128266166', 'https://www.yes24.com/product/goods/143495406', 'https://www.yes24.com/product/goods/142693240', 'https://www.yes24.com/product/goods/11467936', 'https://www.yes24.com/product/goods/142842850', 'https://www.yes24.com/product/goods/143655313', 'https://www.yes24.com/product/goods/142761607', 'https://www.yes24.com/product/goods/143654088', 'https://www.yes24.com/product/goods/142251261', 'https://www.yes24.com/product/goods/127050264', 'https://www.yes24.com/product/goods/142763251', 'https://www.yes24.com/product/goods/141133506', 'https://www.yes24.com/product/goods/123400303', 'https://www.yes24.com/product/goods/143258807', 'https://www.yes24.com/product/goods/140293615', 'https://www.yes24.com/product/goods/139704984', 'https://www.yes24.com/product/goods/142609163', 'https://www.yes24.com/product/goods/133308510', 'https://www.yes24.com/product/goods/142841724', 'https://www.yes24.com/product/goods/65067259', 'https://www.yes24.com/product/goods/23030284', 'https://www.yes24.com/product/goods/102502665']\n"
     ]
    }
   ],
   "source": [
    "# 3페이지까지의 링크 데이터 전부 수집\n",
    "# https://www.yes24.com/product/category/bestseller?categoryNumber=001&pageNumber=3&pageSize=24\n",
    "# https://www.yes24.com/product/category/bestseller?categoryNumber=001&pageNumber=3&pageSize=24\n",
    "# https://www.yes24.com/product/category/bestseller?categoryNumber=001&pageNumber=3&pageSize=24\n",
    "\n",
    "import time\n",
    "\n",
    "link_list = []\n",
    "for i in range(1, 4):\n",
    "    print(\"*\" * 10, f\"현재 {i} 페이지 수집 중 입니다.\", \"*\" * 10)\n",
    "\n",
    "    url = f'https://www.yes24.com/product/category/bestseller?categoryNumber=001&pageNumber={i}&pageSize=24'\n",
    "    #print(url)\n",
    "    browser.get(url)\n",
    "\n",
    "    browser.find_element(By.CLASS_NAME, 'gd_name').get_attribute('href')\n",
    "    ### 1페이지 전체의 링크 데이터\n",
    "    #browser.find_element(By.CLASS_NAME, 'gd_name') # element: 요소\n",
    "    datas = browser.find_elements(By.CLASS_NAME, 'gd_name') # elements: 리스트\n",
    "\n",
    "    for i in datas:\n",
    "        link = i.get_attribute('href')\n",
    "        link_list.append(link)\n",
    "\n",
    "    time.sleep(3)\n",
    "\n",
    "print(link_list)"
   ]
  },
  {
   "cell_type": "code",
   "execution_count": 29,
   "metadata": {},
   "outputs": [
    {
     "data": {
      "text/plain": [
       "72"
      ]
     },
     "execution_count": 29,
     "metadata": {},
     "output_type": "execute_result"
    }
   ],
   "source": [
    "len(link_list)"
   ]
  },
  {
   "cell_type": "code",
   "execution_count": 66,
   "metadata": {},
   "outputs": [],
   "source": [
    "# 상세 페이지로 이동\n",
    "#for link in link_list:\n",
    "    # print(link)\n",
    "    # 상세 페이지로 이동\n",
    "    #browser.get(link)\n",
    "\n",
    "browser.get(link_list[0])\n",
    "\n",
    "# 책제목\n",
    "title = browser.find_element(By.CLASS_NAME, 'gd_name').text\n",
    "# title\n",
    "\n",
    "# 책저자\n",
    "author = browser.find_element(By.CLASS_NAME, 'gd_auth').text\n",
    "# author\n",
    "\n",
    "# 출판사\n",
    "publisher = browser.find_element(By.CLASS_NAME, 'gd_pub').text\n",
    "#publisher\n",
    "\n",
    "# 출판일자\n",
    "publishing = browser.find_element(By.CLASS_NAME, 'gd_date').text\n",
    "#publishing\n",
    "\n",
    "# 평점\n",
    "rating = browser.find_element(By.CLASS_NAME, 'yes_b').text\n",
    "# rating\n",
    "\n",
    "# 리뷰\n",
    "review = browser.find_element(By.CLASS_NAME, 'txC_blue').text\n",
    "# review\n",
    "\n",
    "# 판매지수\n",
    "sales = browser.find_element(By.CLASS_NAME, 'gd_sellNum').text.split(\" \")[2]\n",
    "# sales\n",
    "\n",
    "# 가격\n",
    "price = browser.find_element(By.CLASS_NAME, 'yes_m').text\n",
    "# price\n",
    "\n",
    "# 국내도서랭킹\n",
    "ranking = browser.find_element(By.CLASS_NAME, 'gd_best').text\n",
    "# ranking = browser.find_element(By.CLASS_NAME, 'gd_best').text.split(\" | \")[0].split(\" \")\n",
    "# ranking\n",
    "\n",
    "# a 태그로 접근\n",
    "#ranking = browser.find_element(By.CLASS_NAME, 'gd_best').find_element(By.CLASS_NAME, 'a').text\n",
    "#ranking = browser.find_element(By.CLASS_NAME, 'gd_best').find_element(By.CLASS_NAME, 'dd').text\n",
    "# ranking\n",
    "\n",
    "# 국내도서TOP\n",
    "#ranking_weeks = browser.find_element(By.CLASS_NAME, 'gd_best').text\n",
    "#ranking_weeks = browser.find_element(By.CLASS_NAME, 'gd_best').text.split(\" | \")[1]\n",
    "# ranking_weeks\n",
    "\n"
   ]
  },
  {
   "cell_type": "code",
   "execution_count": 67,
   "metadata": {},
   "outputs": [],
   "source": [
    "# day6\n",
    "\n",
    "# 데이터 베이스 연동 후 -> 수집한 데이터를 DB에 저장(csv)\n",
    "import pymysql # pip install pymysql\n",
    "import time\n",
    "import re\n",
    "from datetime import datetime\n",
    "\n",
    "conn = pymysql.connect(\n",
    "    host='localhost',\n",
    "    user='root',\n",
    "    password='0000',\n",
    "    db='yes24',\n",
    "    charset='utf8mb4',\n",
    "    cursorclass=pymysql.cursors.DictCursor\n",
    "\n",
    ")\n",
    "\n",
    "with conn.cursor() as cur:\n",
    "    \n",
    "    for link in link_list:\n",
    "        browser.get(link)\n",
    "        \n",
    "        # 데이터 추출\n",
    "        title = browser.find_element(By.CLASS_NAME, 'gd_name').text\n",
    "        author = browser.find_element(By.CLASS_NAME, 'gd_auth').text\n",
    "        publisher = browser.find_element(By.CLASS_NAME, 'gd_pub').text\n",
    "\n",
    "        # 발행일 처리 (2025년 01월 01일 -> 2025-01-01)\n",
    "        publishing = browser.find_element(By.CLASS_NAME, 'gd_date').text\n",
    "        match = re.search(r'(\\d+)년 (\\d+)월 (\\d+)일', publishing)\n",
    "\n",
    "        if match:\n",
    "            year, month, day = match.groups()\n",
    "            data_obj = datetime(int(year), int(month), int(day))\n",
    "            publishing = data_obj.strftime(\"%Y-%m-%d\")\n",
    "        else:  \n",
    "            publishing = \"2025-01-01\"\n",
    "\n",
    "        rating = browser.find_element(By.CLASS_NAME, 'yes_b').text\n",
    "\n",
    "        # rating이 문자열인 경우만 쉼표를 제거하고 처리\n",
    "        if isinstance(rating, str):\n",
    "            rating = rating.replace(\",\", \"\")\n",
    "\n",
    "        # 숫자인지 확인하고, 숫자일 경우 float으로 변환\n",
    "        try:\n",
    "            rating = float(rating)\n",
    "        except ValueError:\n",
    "            rating = 0.0  # 숫자가 아닌 경우 0으로 설정\n",
    "\n",
    "        # rating이 유효한 값인 경우에만 처리\n",
    "        if rating < 0 or rating > 10:\n",
    "            rating = None  # 범위를 벗어난 값은 None으로 설정    \n",
    "\n",
    "        review = browser.find_element(By.CLASS_NAME, 'txC_blue').text\n",
    "        if review.isdigit():\n",
    "            review = int(review.replace(\",\", \"\").replace(\".\", \"\")) # 쉼표와 점을 제거하고 정수로 변환\n",
    "        else:\n",
    "            review = 0  # 숫자가 아니면 0으로 설정\n",
    "\n",
    "\n",
    "        sales = browser.find_element(By.CLASS_NAME, 'gd_sellNum').text.split(\" \")[2]\n",
    "        sales = int(sales.replace(\",\", \"\"))\n",
    "\n",
    "        price = browser.find_element(By.CLASS_NAME, 'yes_m').text\n",
    "        price = int(price.replace(\"원\", \"\").replace(\",\", \"\"))\n",
    "\n",
    "        ranking = browser.find_element(By.CLASS_NAME, 'gd_best').text\n",
    "        match = re.search(r'(\\d+)', ranking)  # 숫자 추출\n",
    "        if match:\n",
    "            ranking = int(match.group(1))  # 숫자만 추출하여 정수형으로 변환\n",
    "        else:\n",
    "            ranking = 0  # 순위를 찾을 수 없으면 기본값을 0으로 설정\n",
    "            \n",
    "        ranking_weeks = ranking  # 'gd_best' 클래스에서 랭킹 주차 정보 추출\n",
    "        \n",
    "        # SQL Insert\n",
    "        sql = \"\"\"INSERT INTO Books(\n",
    "        title, author, publisher, publishing, rating, review, sales, price, ranking, ranking_weeks\n",
    "        )\n",
    "        Values(\n",
    "            %s, %s, %s, %s, %s, %s, %s, %s, %s, %s\n",
    "        )\"\"\"\n",
    "\n",
    "        cur.execute(sql, (title, author, publisher, publishing, rating, review, sales, price, ranking, ranking_weeks))\n",
    "        conn.commit()\n",
    "        time.sleep(3)\n",
    "\n",
    "\n",
    "# 상세페이지 이동 후 데이터 크롤링\n"
   ]
  },
  {
   "cell_type": "code",
   "execution_count": 16,
   "metadata": {},
   "outputs": [
    {
     "data": {
      "text/plain": [
       "('단 한 번의 삶',\n",
       " '김영하 저',\n",
       " '복복서가',\n",
       " '2025년 04월 06일',\n",
       " '10.0',\n",
       " '1',\n",
       " '104,730',\n",
       " '16,800원',\n",
       " '베스트 국내도서 1위',\n",
       " '베스트 국내도서 1위')"
      ]
     },
     "execution_count": 16,
     "metadata": {},
     "output_type": "execute_result"
    }
   ],
   "source": [
    "# 책제목\n",
    "title = browser.find_element(By.CLASS_NAME, 'gd_name').text\n",
    "author = browser.find_element(By.CLASS_NAME, 'gd_auth').text\n",
    "publisher = browser.find_element(By.CLASS_NAME, 'gd_pub').text\n",
    "publishing = browser.find_element(By.CLASS_NAME, 'gd_date').text\n",
    "rating = browser.find_element(By.CLASS_NAME, 'yes_b').text\n",
    "review = browser.find_element(By.CLASS_NAME, 'txC_blue').text\n",
    "sales = browser.find_element(By.CLASS_NAME, 'gd_sellNum').text.split(\" \")[2]\n",
    "price = browser.find_element(By.CLASS_NAME, 'yes_m').text\n",
    "ranking = browser.find_element(By.CLASS_NAME, 'gd_best').text\n",
    "ranking_weeks = browser.find_element(By.CLASS_NAME, 'gd_best').text\n",
    "\n",
    "title, author, publisher, publishing, rating, review, sales, price, ranking, ranking_weeks"
   ]
  }
 ],
 "metadata": {
  "kernelspec": {
   "display_name": ".venv",
   "language": "python",
   "name": "python3"
  },
  "language_info": {
   "codemirror_mode": {
    "name": "ipython",
    "version": 3
   },
   "file_extension": ".py",
   "mimetype": "text/x-python",
   "name": "python",
   "nbconvert_exporter": "python",
   "pygments_lexer": "ipython3",
   "version": "3.9.6"
  }
 },
 "nbformat": 4,
 "nbformat_minor": 2
}
