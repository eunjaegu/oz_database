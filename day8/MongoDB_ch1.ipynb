{
 "cells": [
  {
   "cell_type": "code",
   "execution_count": null,
   "metadata": {},
   "outputs": [],
   "source": [
    "# **[문제 1: 특정 장르의 책 찾기]**\n",
    "\n",
    "# **문제 설명**:\n",
    "# 데이터베이스에 새로운 필드로 **`genre`**를 책 데이터에 추가하였습니다. 사용자는 \"fantasy\" 장르의 모든 책을 찾고 싶어합니다.\n",
    "# **쿼리 작성 목표**:\n",
    "# \"fantasy\" 장르에 해당하는 모든 책의 제목과 저자를 찾는 MongoDB 쿼리를 함수로 만들어 문제를 해결해 봅니다."
   ]
  },
  {
   "cell_type": "code",
   "execution_count": null,
   "metadata": {},
   "outputs": [],
   "source": [
    "def find_books_by_genre(db, genre):\n",
    "    books_collection = db.books\n",
    "    query = {\"genre\": genre}\n",
    "    projection = {\"_id\": 0, \"title\": 1, \"author\": 1}\n",
    "\n",
    "    books = books_collection.find(query, projection)\n",
    "    for book in books:\n",
    "        print(book)\n",
    "\n",
    "#함수 실행 코드\n",
    "find_books_by_genre(db, \"fantasy\")"
   ]
  },
  {
   "cell_type": "code",
   "execution_count": null,
   "metadata": {},
   "outputs": [],
   "source": [
    "# **[문제 2: 감독별 평균 영화 평점 계산]**\n",
    "\n",
    "# **문제 설명**:\n",
    "# 각 영화 감독별로 그들의 영화 평점의 평균을 계산하고 싶습니다. 이를 통해 어떤 감독이 가장 높은 평균 평점을 가지고 있는지 알아볼 수 있습니다.\n",
    "# **쿼리 작성 목표**: \n",
    "# 모든 영화 감독의 영화 평점 평균을 계산하고, 평균 평점이 높은 순으로 정렬하는 MongoDB 쿼리를 함수로 만들어 문제를 해결해 봅니다."
   ]
  },
  {
   "cell_type": "code",
   "execution_count": null,
   "metadata": {},
   "outputs": [],
   "source": [
    "def calculate_average_ratings(db):\n",
    "    movies_collection = db.movies\n",
    "    pipeline = [\n",
    "        {\"$group\": {\"_id\": \"$director\", \"average_rating\": {\"$avg\": \"$rating\"}}},\n",
    "        {\"$sort\": {\"average_rating\": -1}}\n",
    "    ]\n",
    "\n",
    "    results = movies_collection.aggregate(pipeline)\n",
    "    for result in results:\n",
    "        print(result)\n",
    "\n",
    "#함수 실행 코드\n",
    "calculate_average_ratings(db)"
   ]
  },
  {
   "cell_type": "code",
   "execution_count": null,
   "metadata": {},
   "outputs": [],
   "source": [
    "# **[문제 3: 특정 사용자의 최근 행동 조회]**\n",
    "\n",
    "# **문제 설명**:\n",
    "# 특정 사용자의 최근 행동 로그를 조회하고자 합니다. 이 때, 최신 순으로 정렬하여 최근 5개의 행동만을 보고 싶습니다.\n",
    "# **쿼리 작성 목표**:\n",
    "# 사용자 ID가 1인 사용자의 최근 행동 5개를 시간 순으로 정렬하여 조회하는 MongoDB 쿼리를 함수로 만들어 문제를 해결해 봅니다."
   ]
  },
  {
   "cell_type": "code",
   "execution_count": null,
   "metadata": {},
   "outputs": [],
   "source": [
    "def find_recent_actions_by_user(db, user_id, limit=5):\n",
    "    user_actions_collection = db.user_actions\n",
    "    query = {\"user_id\": user_id}\n",
    "    sort_criteria = [(\"timestamp\", -1)]\n",
    "\n",
    "    actions = user_actions_collection.find(query).sort(sort_criteria).limit(limit)\n",
    "    for action in actions:\n",
    "        print(action)\n",
    "\n",
    "#함수 실행 코드\n",
    "find_recent_actions_by_user(db, 1)"
   ]
  },
  {
   "cell_type": "code",
   "execution_count": null,
   "metadata": {},
   "outputs": [],
   "source": [
    "# **[문제 4: 출판 연도별 책의 수 계산]**\n",
    "\n",
    "# **문제 설명** :\n",
    "# 데이터베이스에 저장된 책 데이터를 이용하여 각 출판 연도별로 출판된 책의 수를 계산하고자 합니다. 이 데이터는 시간에 따른 출판 트렌드를 분석하는 데 사용될 수 있습니다.\n",
    "# **쿼리 작성 목표** :\n",
    "# 각 출판 연도별로 출판된 책의 수를 계산하고, 출판된 책의 수가 많은 순서대로 정렬하는 MongoDB 쿼리를 함수로 만들어 문제를 해결해 봅니다."
   ]
  },
  {
   "cell_type": "code",
   "execution_count": null,
   "metadata": {},
   "outputs": [],
   "source": [
    "def count_books_by_year(db):\n",
    "    books_collection = db.books\n",
    "    pipeline = [\n",
    "        {\"$group\": {\"_id\": \"$year\", \"count\": {\"$sum\": 1}}},\n",
    "        {\"$sort\": {\"count\": -1}}\n",
    "    ]\n",
    "\n",
    "    results = books_collection.aggregate(pipeline)\n",
    "    for result in results:\n",
    "        print(result)\n",
    "\n",
    "#함수 실행 코드\n",
    "count_books_by_year(db)"
   ]
  },
  {
   "cell_type": "code",
   "execution_count": null,
   "metadata": {},
   "outputs": [],
   "source": [
    "# **[문제 5: 특정 사용자의 행동 유형 업데이트]**\n",
    "\n",
    "# **문제 설명**:\n",
    "# 특정 사용자의 행동 로그 중, 특정 날짜 이전의 \"view\" 행동을 \"seen\"으로 변경하고 싶습니다. 예를 들어, 사용자 ID가 1인 사용자의 2023년 4월 13일 이전의 모든 \"view\" 행동을 \"seen\"으로 변경하는 작업입니다.\n",
    "# **쿼리 작성 목표**:\n",
    "# 사용자 ID가 1인 사용자의 2023년 4월 13일 이전의 \"view\" 행동을 \"seen\"으로 변경하는 MongoDB 업데이트 쿼리를 함수로 만들어 문제를 해결해 봅니다.\n"
   ]
  },
  {
   "cell_type": "code",
   "execution_count": null,
   "metadata": {},
   "outputs": [],
   "source": [
    "from datetime import datetime\n",
    "\n",
    "def update_user_actions_before_date(db, user_id, date, old_action, new_action):\n",
    "    user_actions_collection = db.user_actions\n",
    "    query = {\"user_id\": user_id, \"action\": old_action, \"timestamp\": {\"$lt\": date}}\n",
    "    update = {\"$set\": {\"action\": new_action}}\n",
    "\n",
    "    result = user_actions_collection.update_many(query, update)\n",
    "    print(f\"Updated {result.modified_count} documents.\")\n",
    "\n",
    "#함수 실행 코드\n",
    "update_user_actions_before_date(db, 1, datetime(2023, 4, 13), \"view\", \"seen\")"
   ]
  }
 ],
 "metadata": {
  "language_info": {
   "name": "python"
  }
 },
 "nbformat": 4,
 "nbformat_minor": 2
}
